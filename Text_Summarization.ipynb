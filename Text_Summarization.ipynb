{
  "nbformat": 4,
  "nbformat_minor": 0,
  "metadata": {
    "colab": {
      "name": "Text Summarization.ipynb",
      "provenance": [],
      "collapsed_sections": [],
      "authorship_tag": "ABX9TyNvPAaQPx8lG2oLCWD0ukUc",
      "include_colab_link": true
    },
    "kernelspec": {
      "name": "python3",
      "display_name": "Python 3"
    },
    "language_info": {
      "name": "python"
    },
    "widgets": {
      "application/vnd.jupyter.widget-state+json": {
        "be76104990b64e07852e27952a4e7b06": {
          "model_module": "@jupyter-widgets/controls",
          "model_name": "HBoxModel",
          "model_module_version": "1.5.0",
          "state": {
            "_dom_classes": [],
            "_model_module": "@jupyter-widgets/controls",
            "_model_module_version": "1.5.0",
            "_model_name": "HBoxModel",
            "_view_count": null,
            "_view_module": "@jupyter-widgets/controls",
            "_view_module_version": "1.5.0",
            "_view_name": "HBoxView",
            "box_style": "",
            "children": [
              "IPY_MODEL_90c11300ac704fc5b2e3e424593fa983",
              "IPY_MODEL_d92bf06c236140c89edf43831d49c7ae",
              "IPY_MODEL_6952912af9544e8a941002e0c87a97b0"
            ],
            "layout": "IPY_MODEL_8b006af032784848937a65eafb524a44"
          }
        },
        "90c11300ac704fc5b2e3e424593fa983": {
          "model_module": "@jupyter-widgets/controls",
          "model_name": "HTMLModel",
          "model_module_version": "1.5.0",
          "state": {
            "_dom_classes": [],
            "_model_module": "@jupyter-widgets/controls",
            "_model_module_version": "1.5.0",
            "_model_name": "HTMLModel",
            "_view_count": null,
            "_view_module": "@jupyter-widgets/controls",
            "_view_module_version": "1.5.0",
            "_view_name": "HTMLView",
            "description": "",
            "description_tooltip": null,
            "layout": "IPY_MODEL_a1b398c445f14d50ba20c622f125172f",
            "placeholder": "​",
            "style": "IPY_MODEL_d70ca23576fe45158c9d8cb91816b573",
            "value": "100%"
          }
        },
        "d92bf06c236140c89edf43831d49c7ae": {
          "model_module": "@jupyter-widgets/controls",
          "model_name": "FloatProgressModel",
          "model_module_version": "1.5.0",
          "state": {
            "_dom_classes": [],
            "_model_module": "@jupyter-widgets/controls",
            "_model_module_version": "1.5.0",
            "_model_name": "FloatProgressModel",
            "_view_count": null,
            "_view_module": "@jupyter-widgets/controls",
            "_view_module_version": "1.5.0",
            "_view_name": "ProgressView",
            "bar_style": "success",
            "description": "",
            "description_tooltip": null,
            "layout": "IPY_MODEL_02518ad65cbb44be853c11def8b0225c",
            "max": 3,
            "min": 0,
            "orientation": "horizontal",
            "style": "IPY_MODEL_d0c746d94c62447fab835b73f8192eab",
            "value": 3
          }
        },
        "6952912af9544e8a941002e0c87a97b0": {
          "model_module": "@jupyter-widgets/controls",
          "model_name": "HTMLModel",
          "model_module_version": "1.5.0",
          "state": {
            "_dom_classes": [],
            "_model_module": "@jupyter-widgets/controls",
            "_model_module_version": "1.5.0",
            "_model_name": "HTMLModel",
            "_view_count": null,
            "_view_module": "@jupyter-widgets/controls",
            "_view_module_version": "1.5.0",
            "_view_name": "HTMLView",
            "description": "",
            "description_tooltip": null,
            "layout": "IPY_MODEL_7360249dd23647099cbfa53531846c52",
            "placeholder": "​",
            "style": "IPY_MODEL_44724f6fdbb34b7bb4c8261d829dd4ff",
            "value": " 3/3 [00:00&lt;00:00,  3.98it/s]"
          }
        },
        "8b006af032784848937a65eafb524a44": {
          "model_module": "@jupyter-widgets/base",
          "model_name": "LayoutModel",
          "model_module_version": "1.2.0",
          "state": {
            "_model_module": "@jupyter-widgets/base",
            "_model_module_version": "1.2.0",
            "_model_name": "LayoutModel",
            "_view_count": null,
            "_view_module": "@jupyter-widgets/base",
            "_view_module_version": "1.2.0",
            "_view_name": "LayoutView",
            "align_content": null,
            "align_items": null,
            "align_self": null,
            "border": null,
            "bottom": null,
            "display": null,
            "flex": null,
            "flex_flow": null,
            "grid_area": null,
            "grid_auto_columns": null,
            "grid_auto_flow": null,
            "grid_auto_rows": null,
            "grid_column": null,
            "grid_gap": null,
            "grid_row": null,
            "grid_template_areas": null,
            "grid_template_columns": null,
            "grid_template_rows": null,
            "height": null,
            "justify_content": null,
            "justify_items": null,
            "left": null,
            "margin": null,
            "max_height": null,
            "max_width": null,
            "min_height": null,
            "min_width": null,
            "object_fit": null,
            "object_position": null,
            "order": null,
            "overflow": null,
            "overflow_x": null,
            "overflow_y": null,
            "padding": null,
            "right": null,
            "top": null,
            "visibility": null,
            "width": null
          }
        },
        "a1b398c445f14d50ba20c622f125172f": {
          "model_module": "@jupyter-widgets/base",
          "model_name": "LayoutModel",
          "model_module_version": "1.2.0",
          "state": {
            "_model_module": "@jupyter-widgets/base",
            "_model_module_version": "1.2.0",
            "_model_name": "LayoutModel",
            "_view_count": null,
            "_view_module": "@jupyter-widgets/base",
            "_view_module_version": "1.2.0",
            "_view_name": "LayoutView",
            "align_content": null,
            "align_items": null,
            "align_self": null,
            "border": null,
            "bottom": null,
            "display": null,
            "flex": null,
            "flex_flow": null,
            "grid_area": null,
            "grid_auto_columns": null,
            "grid_auto_flow": null,
            "grid_auto_rows": null,
            "grid_column": null,
            "grid_gap": null,
            "grid_row": null,
            "grid_template_areas": null,
            "grid_template_columns": null,
            "grid_template_rows": null,
            "height": null,
            "justify_content": null,
            "justify_items": null,
            "left": null,
            "margin": null,
            "max_height": null,
            "max_width": null,
            "min_height": null,
            "min_width": null,
            "object_fit": null,
            "object_position": null,
            "order": null,
            "overflow": null,
            "overflow_x": null,
            "overflow_y": null,
            "padding": null,
            "right": null,
            "top": null,
            "visibility": null,
            "width": null
          }
        },
        "d70ca23576fe45158c9d8cb91816b573": {
          "model_module": "@jupyter-widgets/controls",
          "model_name": "DescriptionStyleModel",
          "model_module_version": "1.5.0",
          "state": {
            "_model_module": "@jupyter-widgets/controls",
            "_model_module_version": "1.5.0",
            "_model_name": "DescriptionStyleModel",
            "_view_count": null,
            "_view_module": "@jupyter-widgets/base",
            "_view_module_version": "1.2.0",
            "_view_name": "StyleView",
            "description_width": ""
          }
        },
        "02518ad65cbb44be853c11def8b0225c": {
          "model_module": "@jupyter-widgets/base",
          "model_name": "LayoutModel",
          "model_module_version": "1.2.0",
          "state": {
            "_model_module": "@jupyter-widgets/base",
            "_model_module_version": "1.2.0",
            "_model_name": "LayoutModel",
            "_view_count": null,
            "_view_module": "@jupyter-widgets/base",
            "_view_module_version": "1.2.0",
            "_view_name": "LayoutView",
            "align_content": null,
            "align_items": null,
            "align_self": null,
            "border": null,
            "bottom": null,
            "display": null,
            "flex": null,
            "flex_flow": null,
            "grid_area": null,
            "grid_auto_columns": null,
            "grid_auto_flow": null,
            "grid_auto_rows": null,
            "grid_column": null,
            "grid_gap": null,
            "grid_row": null,
            "grid_template_areas": null,
            "grid_template_columns": null,
            "grid_template_rows": null,
            "height": null,
            "justify_content": null,
            "justify_items": null,
            "left": null,
            "margin": null,
            "max_height": null,
            "max_width": null,
            "min_height": null,
            "min_width": null,
            "object_fit": null,
            "object_position": null,
            "order": null,
            "overflow": null,
            "overflow_x": null,
            "overflow_y": null,
            "padding": null,
            "right": null,
            "top": null,
            "visibility": null,
            "width": null
          }
        },
        "d0c746d94c62447fab835b73f8192eab": {
          "model_module": "@jupyter-widgets/controls",
          "model_name": "ProgressStyleModel",
          "model_module_version": "1.5.0",
          "state": {
            "_model_module": "@jupyter-widgets/controls",
            "_model_module_version": "1.5.0",
            "_model_name": "ProgressStyleModel",
            "_view_count": null,
            "_view_module": "@jupyter-widgets/base",
            "_view_module_version": "1.2.0",
            "_view_name": "StyleView",
            "bar_color": null,
            "description_width": ""
          }
        },
        "7360249dd23647099cbfa53531846c52": {
          "model_module": "@jupyter-widgets/base",
          "model_name": "LayoutModel",
          "model_module_version": "1.2.0",
          "state": {
            "_model_module": "@jupyter-widgets/base",
            "_model_module_version": "1.2.0",
            "_model_name": "LayoutModel",
            "_view_count": null,
            "_view_module": "@jupyter-widgets/base",
            "_view_module_version": "1.2.0",
            "_view_name": "LayoutView",
            "align_content": null,
            "align_items": null,
            "align_self": null,
            "border": null,
            "bottom": null,
            "display": null,
            "flex": null,
            "flex_flow": null,
            "grid_area": null,
            "grid_auto_columns": null,
            "grid_auto_flow": null,
            "grid_auto_rows": null,
            "grid_column": null,
            "grid_gap": null,
            "grid_row": null,
            "grid_template_areas": null,
            "grid_template_columns": null,
            "grid_template_rows": null,
            "height": null,
            "justify_content": null,
            "justify_items": null,
            "left": null,
            "margin": null,
            "max_height": null,
            "max_width": null,
            "min_height": null,
            "min_width": null,
            "object_fit": null,
            "object_position": null,
            "order": null,
            "overflow": null,
            "overflow_x": null,
            "overflow_y": null,
            "padding": null,
            "right": null,
            "top": null,
            "visibility": null,
            "width": null
          }
        },
        "44724f6fdbb34b7bb4c8261d829dd4ff": {
          "model_module": "@jupyter-widgets/controls",
          "model_name": "DescriptionStyleModel",
          "model_module_version": "1.5.0",
          "state": {
            "_model_module": "@jupyter-widgets/controls",
            "_model_module_version": "1.5.0",
            "_model_name": "DescriptionStyleModel",
            "_view_count": null,
            "_view_module": "@jupyter-widgets/base",
            "_view_module_version": "1.2.0",
            "_view_name": "StyleView",
            "description_width": ""
          }
        }
      }
    }
  },
  "cells": [
    {
      "cell_type": "markdown",
      "metadata": {
        "id": "view-in-github",
        "colab_type": "text"
      },
      "source": [
        "<a href=\"https://colab.research.google.com/github/AbdullahNasser98/Text_summarization/blob/master/Text_Summarization.ipynb\" target=\"_parent\"><img src=\"https://colab.research.google.com/assets/colab-badge.svg\" alt=\"Open In Colab\"/></a>"
      ]
    },
    {
      "cell_type": "code",
      "source": [
        "!pip install datasets\n",
        "!pip install contractions\n",
        "!pip install rouge\n",
        "!pip install transformers"
      ],
      "metadata": {
        "colab": {
          "base_uri": "https://localhost:8080/"
        },
        "id": "pEyuYvU7NWo2",
        "outputId": "7989f403-edce-4810-8fa7-e606e5183777"
      },
      "execution_count": 1,
      "outputs": [
        {
          "output_type": "stream",
          "name": "stdout",
          "text": [
            "Looking in indexes: https://pypi.org/simple, https://us-python.pkg.dev/colab-wheels/public/simple/\n",
            "Requirement already satisfied: datasets in /usr/local/lib/python3.7/dist-packages (2.2.2)\n",
            "Requirement already satisfied: dill<0.3.5 in /usr/local/lib/python3.7/dist-packages (from datasets) (0.3.4)\n",
            "Requirement already satisfied: fsspec[http]>=2021.05.0 in /usr/local/lib/python3.7/dist-packages (from datasets) (2022.5.0)\n",
            "Requirement already satisfied: huggingface-hub<1.0.0,>=0.1.0 in /usr/local/lib/python3.7/dist-packages (from datasets) (0.7.0)\n",
            "Requirement already satisfied: packaging in /usr/local/lib/python3.7/dist-packages (from datasets) (21.3)\n",
            "Requirement already satisfied: pyarrow>=6.0.0 in /usr/local/lib/python3.7/dist-packages (from datasets) (6.0.1)\n",
            "Requirement already satisfied: xxhash in /usr/local/lib/python3.7/dist-packages (from datasets) (3.0.0)\n",
            "Requirement already satisfied: tqdm>=4.62.1 in /usr/local/lib/python3.7/dist-packages (from datasets) (4.64.0)\n",
            "Requirement already satisfied: multiprocess in /usr/local/lib/python3.7/dist-packages (from datasets) (0.70.12.2)\n",
            "Requirement already satisfied: responses<0.19 in /usr/local/lib/python3.7/dist-packages (from datasets) (0.18.0)\n",
            "Requirement already satisfied: pandas in /usr/local/lib/python3.7/dist-packages (from datasets) (1.3.5)\n",
            "Requirement already satisfied: numpy>=1.17 in /usr/local/lib/python3.7/dist-packages (from datasets) (1.21.6)\n",
            "Requirement already satisfied: aiohttp in /usr/local/lib/python3.7/dist-packages (from datasets) (3.8.1)\n",
            "Requirement already satisfied: requests>=2.19.0 in /usr/local/lib/python3.7/dist-packages (from datasets) (2.23.0)\n",
            "Requirement already satisfied: importlib-metadata in /usr/local/lib/python3.7/dist-packages (from datasets) (4.11.4)\n",
            "Requirement already satisfied: pyyaml>=5.1 in /usr/local/lib/python3.7/dist-packages (from huggingface-hub<1.0.0,>=0.1.0->datasets) (6.0)\n",
            "Requirement already satisfied: filelock in /usr/local/lib/python3.7/dist-packages (from huggingface-hub<1.0.0,>=0.1.0->datasets) (3.7.0)\n",
            "Requirement already satisfied: typing-extensions>=3.7.4.3 in /usr/local/lib/python3.7/dist-packages (from huggingface-hub<1.0.0,>=0.1.0->datasets) (4.2.0)\n",
            "Requirement already satisfied: pyparsing!=3.0.5,>=2.0.2 in /usr/local/lib/python3.7/dist-packages (from packaging->datasets) (3.0.9)\n",
            "Requirement already satisfied: chardet<4,>=3.0.2 in /usr/local/lib/python3.7/dist-packages (from requests>=2.19.0->datasets) (3.0.4)\n",
            "Requirement already satisfied: idna<3,>=2.5 in /usr/local/lib/python3.7/dist-packages (from requests>=2.19.0->datasets) (2.10)\n",
            "Requirement already satisfied: certifi>=2017.4.17 in /usr/local/lib/python3.7/dist-packages (from requests>=2.19.0->datasets) (2022.5.18.1)\n",
            "Requirement already satisfied: urllib3!=1.25.0,!=1.25.1,<1.26,>=1.21.1 in /usr/local/lib/python3.7/dist-packages (from requests>=2.19.0->datasets) (1.25.11)\n",
            "Requirement already satisfied: frozenlist>=1.1.1 in /usr/local/lib/python3.7/dist-packages (from aiohttp->datasets) (1.3.0)\n",
            "Requirement already satisfied: charset-normalizer<3.0,>=2.0 in /usr/local/lib/python3.7/dist-packages (from aiohttp->datasets) (2.0.12)\n",
            "Requirement already satisfied: yarl<2.0,>=1.0 in /usr/local/lib/python3.7/dist-packages (from aiohttp->datasets) (1.7.2)\n",
            "Requirement already satisfied: attrs>=17.3.0 in /usr/local/lib/python3.7/dist-packages (from aiohttp->datasets) (21.4.0)\n",
            "Requirement already satisfied: asynctest==0.13.0 in /usr/local/lib/python3.7/dist-packages (from aiohttp->datasets) (0.13.0)\n",
            "Requirement already satisfied: async-timeout<5.0,>=4.0.0a3 in /usr/local/lib/python3.7/dist-packages (from aiohttp->datasets) (4.0.2)\n",
            "Requirement already satisfied: aiosignal>=1.1.2 in /usr/local/lib/python3.7/dist-packages (from aiohttp->datasets) (1.2.0)\n",
            "Requirement already satisfied: multidict<7.0,>=4.5 in /usr/local/lib/python3.7/dist-packages (from aiohttp->datasets) (6.0.2)\n",
            "Requirement already satisfied: zipp>=0.5 in /usr/local/lib/python3.7/dist-packages (from importlib-metadata->datasets) (3.8.0)\n",
            "Requirement already satisfied: python-dateutil>=2.7.3 in /usr/local/lib/python3.7/dist-packages (from pandas->datasets) (2.8.2)\n",
            "Requirement already satisfied: pytz>=2017.3 in /usr/local/lib/python3.7/dist-packages (from pandas->datasets) (2022.1)\n",
            "Requirement already satisfied: six>=1.5 in /usr/local/lib/python3.7/dist-packages (from python-dateutil>=2.7.3->pandas->datasets) (1.15.0)\n",
            "Looking in indexes: https://pypi.org/simple, https://us-python.pkg.dev/colab-wheels/public/simple/\n",
            "Requirement already satisfied: contractions in /usr/local/lib/python3.7/dist-packages (0.1.72)\n",
            "Requirement already satisfied: textsearch>=0.0.21 in /usr/local/lib/python3.7/dist-packages (from contractions) (0.0.21)\n",
            "Requirement already satisfied: anyascii in /usr/local/lib/python3.7/dist-packages (from textsearch>=0.0.21->contractions) (0.3.1)\n",
            "Requirement already satisfied: pyahocorasick in /usr/local/lib/python3.7/dist-packages (from textsearch>=0.0.21->contractions) (1.4.4)\n",
            "Looking in indexes: https://pypi.org/simple, https://us-python.pkg.dev/colab-wheels/public/simple/\n",
            "Requirement already satisfied: rouge in /usr/local/lib/python3.7/dist-packages (1.0.1)\n",
            "Requirement already satisfied: six in /usr/local/lib/python3.7/dist-packages (from rouge) (1.15.0)\n",
            "Looking in indexes: https://pypi.org/simple, https://us-python.pkg.dev/colab-wheels/public/simple/\n",
            "Requirement already satisfied: transformers in /usr/local/lib/python3.7/dist-packages (4.19.2)\n",
            "Requirement already satisfied: pyyaml>=5.1 in /usr/local/lib/python3.7/dist-packages (from transformers) (6.0)\n",
            "Requirement already satisfied: filelock in /usr/local/lib/python3.7/dist-packages (from transformers) (3.7.0)\n",
            "Requirement already satisfied: huggingface-hub<1.0,>=0.1.0 in /usr/local/lib/python3.7/dist-packages (from transformers) (0.7.0)\n",
            "Requirement already satisfied: tqdm>=4.27 in /usr/local/lib/python3.7/dist-packages (from transformers) (4.64.0)\n",
            "Requirement already satisfied: requests in /usr/local/lib/python3.7/dist-packages (from transformers) (2.23.0)\n",
            "Requirement already satisfied: regex!=2019.12.17 in /usr/local/lib/python3.7/dist-packages (from transformers) (2019.12.20)\n",
            "Requirement already satisfied: tokenizers!=0.11.3,<0.13,>=0.11.1 in /usr/local/lib/python3.7/dist-packages (from transformers) (0.12.1)\n",
            "Requirement already satisfied: numpy>=1.17 in /usr/local/lib/python3.7/dist-packages (from transformers) (1.21.6)\n",
            "Requirement already satisfied: packaging>=20.0 in /usr/local/lib/python3.7/dist-packages (from transformers) (21.3)\n",
            "Requirement already satisfied: importlib-metadata in /usr/local/lib/python3.7/dist-packages (from transformers) (4.11.4)\n",
            "Requirement already satisfied: typing-extensions>=3.7.4.3 in /usr/local/lib/python3.7/dist-packages (from huggingface-hub<1.0,>=0.1.0->transformers) (4.2.0)\n",
            "Requirement already satisfied: pyparsing!=3.0.5,>=2.0.2 in /usr/local/lib/python3.7/dist-packages (from packaging>=20.0->transformers) (3.0.9)\n",
            "Requirement already satisfied: zipp>=0.5 in /usr/local/lib/python3.7/dist-packages (from importlib-metadata->transformers) (3.8.0)\n",
            "Requirement already satisfied: certifi>=2017.4.17 in /usr/local/lib/python3.7/dist-packages (from requests->transformers) (2022.5.18.1)\n",
            "Requirement already satisfied: idna<3,>=2.5 in /usr/local/lib/python3.7/dist-packages (from requests->transformers) (2.10)\n",
            "Requirement already satisfied: chardet<4,>=3.0.2 in /usr/local/lib/python3.7/dist-packages (from requests->transformers) (3.0.4)\n",
            "Requirement already satisfied: urllib3!=1.25.0,!=1.25.1,<1.26,>=1.21.1 in /usr/local/lib/python3.7/dist-packages (from requests->transformers) (1.25.11)\n"
          ]
        }
      ]
    },
    {
      "cell_type": "code",
      "execution_count": 2,
      "metadata": {
        "id": "25nUHmO2M9cO"
      },
      "outputs": [],
      "source": [
        "## for data\n",
        "import datasets  #(1.13.3)\n",
        "import pandas as pd  #(0.25.1)\n",
        "import numpy  #(1.16.4)\n",
        "## for plotting\n",
        "import matplotlib.pyplot as plt  #(3.1.2)\n",
        "import seaborn as sns  #(0.9.0)\n",
        "## for preprocessing\n",
        "import re\n",
        "import nltk  #(3.4.5)\n",
        "import contractions  #(0.0.18)\n",
        "## for textrank\n",
        "import gensim  #(3.8.1)\n",
        "## for evaluation\n",
        "import rouge  #(1.0.0)\n",
        "import difflib\n",
        "## for seq2seq\n",
        "from tensorflow.keras import callbacks, models, layers, preprocessing as kprocessing #(2.6.0)\n",
        "## for bart\n",
        "import transformers  #(3.0.1)"
      ]
    },
    {
      "cell_type": "code",
      "source": [
        "## load the full dataset of 300k articles\n",
        "dataset = datasets.load_dataset(\"cnn_dailymail\", '3.0.0')"
      ],
      "metadata": {
        "colab": {
          "base_uri": "https://localhost:8080/",
          "height": 66,
          "referenced_widgets": [
            "be76104990b64e07852e27952a4e7b06",
            "90c11300ac704fc5b2e3e424593fa983",
            "d92bf06c236140c89edf43831d49c7ae",
            "6952912af9544e8a941002e0c87a97b0",
            "8b006af032784848937a65eafb524a44",
            "a1b398c445f14d50ba20c622f125172f",
            "d70ca23576fe45158c9d8cb91816b573",
            "02518ad65cbb44be853c11def8b0225c",
            "d0c746d94c62447fab835b73f8192eab",
            "7360249dd23647099cbfa53531846c52",
            "44724f6fdbb34b7bb4c8261d829dd4ff"
          ]
        },
        "id": "9_VMGNveNEve",
        "outputId": "2380ed70-6acd-439a-cd53-97f18c83ce9d"
      },
      "execution_count": 3,
      "outputs": [
        {
          "output_type": "stream",
          "name": "stderr",
          "text": [
            "Reusing dataset cnn_dailymail (/root/.cache/huggingface/datasets/cnn_dailymail/3.0.0/3.0.0/1b3c71476f6d152c31c1730e83ccb08bcf23e348233f4fcc11e182248e6bf7de)\n"
          ]
        },
        {
          "output_type": "display_data",
          "data": {
            "text/plain": [
              "  0%|          | 0/3 [00:00<?, ?it/s]"
            ],
            "application/vnd.jupyter.widget-view+json": {
              "version_major": 2,
              "version_minor": 0,
              "model_id": "be76104990b64e07852e27952a4e7b06"
            }
          },
          "metadata": {}
        }
      ]
    },
    {
      "cell_type": "code",
      "source": [
        "lst_dics = [dic for dic in dataset[\"train\"]]\n",
        "## keep the first N articles if you want to keep it lite\n",
        "N = 20000 \n",
        "dtf = pd.DataFrame(lst_dics).rename(columns={\"article\":\"text\", \n",
        "      \"highlights\":\"y\"})[[\"text\",\"y\"]].head(N)\n",
        "dtf.head()"
      ],
      "metadata": {
        "colab": {
          "base_uri": "https://localhost:8080/",
          "height": 206
        },
        "id": "sOkwgeDnPJMo",
        "outputId": "5056a6d7-feae-449f-988b-ec3894aa8893"
      },
      "execution_count": 4,
      "outputs": [
        {
          "output_type": "execute_result",
          "data": {
            "text/plain": [
              "                                                text  \\\n",
              "0  LONDON, England (Reuters) -- Harry Potter star...   \n",
              "1  Editor's note: In our Behind the Scenes series...   \n",
              "2  MINNEAPOLIS, Minnesota (CNN) -- Drivers who we...   \n",
              "3  WASHINGTON (CNN) -- Doctors removed five small...   \n",
              "4  (CNN)  -- The National Football League has ind...   \n",
              "\n",
              "                                                   y  \n",
              "0  Harry Potter star Daniel Radcliffe gets £20M f...  \n",
              "1  Mentally ill inmates in Miami are housed on th...  \n",
              "2  NEW: \"I thought I was going to die,\" driver sa...  \n",
              "3  Five small polyps found during procedure; \"non...  \n",
              "4  NEW: NFL chief, Atlanta Falcons owner critical...  "
            ],
            "text/html": [
              "\n",
              "  <div id=\"df-05b93757-d7be-4937-9609-f3724212d384\">\n",
              "    <div class=\"colab-df-container\">\n",
              "      <div>\n",
              "<style scoped>\n",
              "    .dataframe tbody tr th:only-of-type {\n",
              "        vertical-align: middle;\n",
              "    }\n",
              "\n",
              "    .dataframe tbody tr th {\n",
              "        vertical-align: top;\n",
              "    }\n",
              "\n",
              "    .dataframe thead th {\n",
              "        text-align: right;\n",
              "    }\n",
              "</style>\n",
              "<table border=\"1\" class=\"dataframe\">\n",
              "  <thead>\n",
              "    <tr style=\"text-align: right;\">\n",
              "      <th></th>\n",
              "      <th>text</th>\n",
              "      <th>y</th>\n",
              "    </tr>\n",
              "  </thead>\n",
              "  <tbody>\n",
              "    <tr>\n",
              "      <th>0</th>\n",
              "      <td>LONDON, England (Reuters) -- Harry Potter star...</td>\n",
              "      <td>Harry Potter star Daniel Radcliffe gets £20M f...</td>\n",
              "    </tr>\n",
              "    <tr>\n",
              "      <th>1</th>\n",
              "      <td>Editor's note: In our Behind the Scenes series...</td>\n",
              "      <td>Mentally ill inmates in Miami are housed on th...</td>\n",
              "    </tr>\n",
              "    <tr>\n",
              "      <th>2</th>\n",
              "      <td>MINNEAPOLIS, Minnesota (CNN) -- Drivers who we...</td>\n",
              "      <td>NEW: \"I thought I was going to die,\" driver sa...</td>\n",
              "    </tr>\n",
              "    <tr>\n",
              "      <th>3</th>\n",
              "      <td>WASHINGTON (CNN) -- Doctors removed five small...</td>\n",
              "      <td>Five small polyps found during procedure; \"non...</td>\n",
              "    </tr>\n",
              "    <tr>\n",
              "      <th>4</th>\n",
              "      <td>(CNN)  -- The National Football League has ind...</td>\n",
              "      <td>NEW: NFL chief, Atlanta Falcons owner critical...</td>\n",
              "    </tr>\n",
              "  </tbody>\n",
              "</table>\n",
              "</div>\n",
              "      <button class=\"colab-df-convert\" onclick=\"convertToInteractive('df-05b93757-d7be-4937-9609-f3724212d384')\"\n",
              "              title=\"Convert this dataframe to an interactive table.\"\n",
              "              style=\"display:none;\">\n",
              "        \n",
              "  <svg xmlns=\"http://www.w3.org/2000/svg\" height=\"24px\"viewBox=\"0 0 24 24\"\n",
              "       width=\"24px\">\n",
              "    <path d=\"M0 0h24v24H0V0z\" fill=\"none\"/>\n",
              "    <path d=\"M18.56 5.44l.94 2.06.94-2.06 2.06-.94-2.06-.94-.94-2.06-.94 2.06-2.06.94zm-11 1L8.5 8.5l.94-2.06 2.06-.94-2.06-.94L8.5 2.5l-.94 2.06-2.06.94zm10 10l.94 2.06.94-2.06 2.06-.94-2.06-.94-.94-2.06-.94 2.06-2.06.94z\"/><path d=\"M17.41 7.96l-1.37-1.37c-.4-.4-.92-.59-1.43-.59-.52 0-1.04.2-1.43.59L10.3 9.45l-7.72 7.72c-.78.78-.78 2.05 0 2.83L4 21.41c.39.39.9.59 1.41.59.51 0 1.02-.2 1.41-.59l7.78-7.78 2.81-2.81c.8-.78.8-2.07 0-2.86zM5.41 20L4 18.59l7.72-7.72 1.47 1.35L5.41 20z\"/>\n",
              "  </svg>\n",
              "      </button>\n",
              "      \n",
              "  <style>\n",
              "    .colab-df-container {\n",
              "      display:flex;\n",
              "      flex-wrap:wrap;\n",
              "      gap: 12px;\n",
              "    }\n",
              "\n",
              "    .colab-df-convert {\n",
              "      background-color: #E8F0FE;\n",
              "      border: none;\n",
              "      border-radius: 50%;\n",
              "      cursor: pointer;\n",
              "      display: none;\n",
              "      fill: #1967D2;\n",
              "      height: 32px;\n",
              "      padding: 0 0 0 0;\n",
              "      width: 32px;\n",
              "    }\n",
              "\n",
              "    .colab-df-convert:hover {\n",
              "      background-color: #E2EBFA;\n",
              "      box-shadow: 0px 1px 2px rgba(60, 64, 67, 0.3), 0px 1px 3px 1px rgba(60, 64, 67, 0.15);\n",
              "      fill: #174EA6;\n",
              "    }\n",
              "\n",
              "    [theme=dark] .colab-df-convert {\n",
              "      background-color: #3B4455;\n",
              "      fill: #D2E3FC;\n",
              "    }\n",
              "\n",
              "    [theme=dark] .colab-df-convert:hover {\n",
              "      background-color: #434B5C;\n",
              "      box-shadow: 0px 1px 3px 1px rgba(0, 0, 0, 0.15);\n",
              "      filter: drop-shadow(0px 1px 2px rgba(0, 0, 0, 0.3));\n",
              "      fill: #FFFFFF;\n",
              "    }\n",
              "  </style>\n",
              "\n",
              "      <script>\n",
              "        const buttonEl =\n",
              "          document.querySelector('#df-05b93757-d7be-4937-9609-f3724212d384 button.colab-df-convert');\n",
              "        buttonEl.style.display =\n",
              "          google.colab.kernel.accessAllowed ? 'block' : 'none';\n",
              "\n",
              "        async function convertToInteractive(key) {\n",
              "          const element = document.querySelector('#df-05b93757-d7be-4937-9609-f3724212d384');\n",
              "          const dataTable =\n",
              "            await google.colab.kernel.invokeFunction('convertToInteractive',\n",
              "                                                     [key], {});\n",
              "          if (!dataTable) return;\n",
              "\n",
              "          const docLinkHtml = 'Like what you see? Visit the ' +\n",
              "            '<a target=\"_blank\" href=https://colab.research.google.com/notebooks/data_table.ipynb>data table notebook</a>'\n",
              "            + ' to learn more about interactive tables.';\n",
              "          element.innerHTML = '';\n",
              "          dataTable['output_type'] = 'display_data';\n",
              "          await google.colab.output.renderOutput(dataTable, element);\n",
              "          const docLink = document.createElement('div');\n",
              "          docLink.innerHTML = docLinkHtml;\n",
              "          element.appendChild(docLink);\n",
              "        }\n",
              "      </script>\n",
              "    </div>\n",
              "  </div>\n",
              "  "
            ]
          },
          "metadata": {},
          "execution_count": 4
        }
      ]
    },
    {
      "cell_type": "code",
      "source": [
        "len(dtf)"
      ],
      "metadata": {
        "colab": {
          "base_uri": "https://localhost:8080/"
        },
        "id": "qC7W4Q4GN7Cx",
        "outputId": "4794afcd-9891-4406-e69f-f674b57622dd"
      },
      "execution_count": 5,
      "outputs": [
        {
          "output_type": "execute_result",
          "data": {
            "text/plain": [
              "20000"
            ]
          },
          "metadata": {},
          "execution_count": 5
        }
      ]
    },
    {
      "cell_type": "code",
      "source": [
        "i = 1\n",
        "print(\"--- Full text ---\")\n",
        "print(dtf[\"text\"][i])\n",
        "print(\"--- Summary ---\")\n",
        "print(dtf[\"y\"][i])"
      ],
      "metadata": {
        "colab": {
          "base_uri": "https://localhost:8080/"
        },
        "id": "oBSmfZpqO5-p",
        "outputId": "ebcdfa7b-9016-4dc3-c89a-f2fe672bc2ea"
      },
      "execution_count": 6,
      "outputs": [
        {
          "output_type": "stream",
          "name": "stdout",
          "text": [
            "--- Full text ---\n",
            "Editor's note: In our Behind the Scenes series, CNN correspondents share their experiences in covering news and analyze the stories behind the events. Here, Soledad O'Brien takes users inside a jail where many of the inmates are mentally ill. An inmate housed on the \"forgotten floor,\" where many mentally ill inmates are housed in Miami before trial. MIAMI, Florida (CNN) -- The ninth floor of the Miami-Dade pretrial detention facility is dubbed the \"forgotten floor.\" Here, inmates with the most severe mental illnesses are incarcerated until they're ready to appear in court. Most often, they face drug charges or charges of assaulting an officer --charges that Judge Steven Leifman says are usually \"avoidable felonies.\" He says the arrests often result from confrontations with police. Mentally ill people often won't do what they're told when police arrive on the scene -- confrontation seems to exacerbate their illness and they become more paranoid, delusional, and less likely to follow directions, according to Leifman. So, they end up on the ninth floor severely mentally disturbed, but not getting any real help because they're in jail. We toured the jail with Leifman. He is well known in Miami as an advocate for justice and the mentally ill. Even though we were not exactly welcomed with open arms by the guards, we were given permission to shoot videotape and tour the floor.  Go inside the 'forgotten floor' » . At first, it's hard to determine where the people are. The prisoners are wearing sleeveless robes. Imagine cutting holes for arms and feet in a heavy wool sleeping bag -- that's kind of what they look like. They're designed to keep the mentally ill patients from injuring themselves. That's also why they have no shoes, laces or mattresses. Leifman says about one-third of all people in Miami-Dade county jails are mentally ill. So, he says, the sheer volume is overwhelming the system, and the result is what we see on the ninth floor. Of course, it is a jail, so it's not supposed to be warm and comforting, but the lights glare, the cells are tiny and it's loud. We see two, sometimes three men -- sometimes in the robes, sometimes naked, lying or sitting in their cells. \"I am the son of the president. You need to get me out of here!\" one man shouts at me. He is absolutely serious, convinced that help is on the way -- if only he could reach the White House. Leifman tells me that these prisoner-patients will often circulate through the system, occasionally stabilizing in a mental hospital, only to return to jail to face their charges. It's brutally unjust, in his mind, and he has become a strong advocate for changing things in Miami. Over a meal later, we talk about how things got this way for mental patients. Leifman says 200 years ago people were considered \"lunatics\" and they were locked up in jails even if they had no charges against them. They were just considered unfit to be in society. Over the years, he says, there was some public outcry, and the mentally ill were moved out of jails and into hospitals. But Leifman says many of these mental hospitals were so horrible they were shut down. Where did the patients go? Nowhere. The streets. They became, in many cases, the homeless, he says. They never got treatment. Leifman says in 1955 there were more than half a million people in state mental hospitals, and today that number has been reduced 90 percent, and 40,000 to 50,000 people are in mental hospitals. The judge says he's working to change this. Starting in 2008, many inmates who would otherwise have been brought to the \"forgotten floor\"  will instead be sent to a new mental health facility -- the first step on a journey toward long-term treatment, not just punishment. Leifman says it's not the complete answer, but it's a start. Leifman says the best part is that it's a win-win solution. The patients win, the families are relieved, and the state saves money by simply not cycling these prisoners through again and again. And, for Leifman, justice is served. E-mail to a friend .\n",
            "--- Summary ---\n",
            "Mentally ill inmates in Miami are housed on the \"forgotten floor\"\n",
            "Judge Steven Leifman says most are there as a result of \"avoidable felonies\"\n",
            "While CNN tours facility, patient shouts: \"I am the son of the president\"\n",
            "Leifman says the system is unjust and he's fighting for change .\n"
          ]
        }
      ]
    },
    {
      "cell_type": "code",
      "source": [
        "###We will use the first record while testing\n",
        "dtf_train = dtf.iloc[i+1:]\n",
        "dtf_test = dtf.iloc[:i+1]"
      ],
      "metadata": {
        "id": "ODtk9TbrQMPH"
      },
      "execution_count": 7,
      "outputs": []
    },
    {
      "cell_type": "code",
      "source": [
        "########################TextRank#################\n",
        "'''\n",
        "Summarizes corpus with TextRank.\n",
        ":parameter    \n",
        "    :param corpus: str or list - dtf[\"text\"]    \n",
        "    :param ratio: length of the summary (ex. 20% of the text)\n",
        ":return    \n",
        "    list of summaries\n",
        "'''\n",
        "def textrank(corpus, ratio=0.2):    \n",
        "    if type(corpus) is str:        \n",
        "       corpus = [corpus]    \n",
        "    lst_summaries = [gensim.summarization.summarize(txt,  \n",
        "                     ratio=ratio) for txt in corpus]    \n",
        "    return lst_summaries\n",
        "\n",
        "## Apply the function to corpus\n",
        "predicted = textrank(corpus=dtf_test[\"text\"], ratio=0.2)\n",
        "predicted[i]"
      ],
      "metadata": {
        "colab": {
          "base_uri": "https://localhost:8080/",
          "height": 140
        },
        "id": "puOeaz4QQiZj",
        "outputId": "17847315-f2d3-4a03-e5e7-249fea3f8236"
      },
      "execution_count": 8,
      "outputs": [
        {
          "output_type": "execute_result",
          "data": {
            "text/plain": [
              "'An inmate housed on the \"forgotten floor,\" where many mentally ill inmates are housed in Miami before trial.\\nMIAMI, Florida (CNN) -- The ninth floor of the Miami-Dade pretrial detention facility is dubbed the \"forgotten floor.\" Here, inmates with the most severe mental illnesses are incarcerated until they\\'re ready to appear in court.\\nSo, they end up on the ninth floor severely mentally disturbed, but not getting any real help because they\\'re in jail.\\nLeifman says about one-third of all people in Miami-Dade county jails are mentally ill.\\nLeifman tells me that these prisoner-patients will often circulate through the system, occasionally stabilizing in a mental hospital, only to return to jail to face their charges.\\nLeifman says 200 years ago people were considered \"lunatics\" and they were locked up in jails even if they had no charges against them.\\nOver the years, he says, there was some public outcry, and the mentally ill were moved out of jails and into hospitals.\\nBut Leifman says many of these mental hospitals were so horrible they were shut down.'"
            ],
            "application/vnd.google.colaboratory.intrinsic+json": {
              "type": "string"
            }
          },
          "metadata": {},
          "execution_count": 8
        }
      ]
    },
    {
      "cell_type": "code",
      "source": [
        "###Rouge score to evaluate the result\n",
        "'''\n",
        "Calculate ROUGE score.\n",
        ":parameter    \n",
        "    :param y_test: string or list    \n",
        "    :param predicted: string or list\n",
        "'''\n",
        "import numpy as np\n",
        "def evaluate_summary(y_test, predicted):    \n",
        "   rouge_score = rouge.Rouge()    \n",
        "   scores = rouge_score.get_scores(y_test, predicted, avg=True)       \n",
        "   score_1 = round(scores['rouge-1']['f'], 2)    \n",
        "   score_2 = round(scores['rouge-2']['f'], 2)    \n",
        "   score_L = round(scores['rouge-l']['f'], 2)    \n",
        "   print(\"rouge1:\", score_1, \"| rouge2:\", score_2, \"| rougeL:\",\n",
        "         score_2, \"--> avg rouge:\", round(np.mean(\n",
        "         [score_1,score_2,score_L]), 2))\n",
        "## Apply the function to predicted\n",
        "i = 1\n",
        "evaluate_summary(dtf_test[\"y\"][i], predicted[i])\n",
        "'''\n",
        "unigrams are sequences of 1 words   rouge1\n",
        "bigrams are sequences of  words     rouge 2\n",
        "'''"
      ],
      "metadata": {
        "colab": {
          "base_uri": "https://localhost:8080/",
          "height": 53
        },
        "id": "ay0K4WyRRK0C",
        "outputId": "b3f922c3-bbab-465e-d38b-21f03c76c1a1"
      },
      "execution_count": 9,
      "outputs": [
        {
          "output_type": "stream",
          "name": "stdout",
          "text": [
            "rouge1: 0.21 | rouge2: 0.07 | rougeL: 0.07 --> avg rouge: 0.15\n"
          ]
        },
        {
          "output_type": "execute_result",
          "data": {
            "text/plain": [
              "'\\nunigrams are sequences of 1 words   rouge1\\nbigrams are sequences of  words     rouge 2\\n'"
            ],
            "application/vnd.google.colaboratory.intrinsic+json": {
              "type": "string"
            }
          },
          "metadata": {},
          "execution_count": 9
        }
      ]
    },
    {
      "cell_type": "code",
      "source": [
        "'''\n",
        "Find the matching substrings in 2 strings.\n",
        ":parameter\n",
        "    :param a: string - raw text\n",
        "    :param b: string - raw text\n",
        ":return\n",
        "    2 lists used in to display matches\n",
        "'''\n",
        "import nltk\n",
        "nltk.download('punkt')\n",
        "def utils_split_sentences(a, b):\n",
        "    ## find clean matches\n",
        "    match = difflib.SequenceMatcher(isjunk=None, a=a, b=b, autojunk=True)\n",
        "    lst_match = [block for block in match.get_matching_blocks() if block.size > 20]\n",
        "    \n",
        "    ## difflib didn't find any match\n",
        "    if len(lst_match) == 0:\n",
        "        lst_a, lst_b = nltk.sent_tokenize(a), nltk.sent_tokenize(b)\n",
        "    \n",
        "    ## work with matches\n",
        "    else:\n",
        "        first_m, last_m = lst_match[0], lst_match[-1]\n",
        "\n",
        "        ### a\n",
        "        string = a[0 : first_m.a]\n",
        "        lst_a = [t for t in nltk.sent_tokenize(string)]\n",
        "        for n in range(len(lst_match)):\n",
        "            m = lst_match[n]\n",
        "            string = a[m.a : m.a+m.size]\n",
        "            lst_a.append(string)\n",
        "            if n+1 < len(lst_match):\n",
        "                next_m = lst_match[n+1]\n",
        "                string = a[m.a+m.size : next_m.a]\n",
        "                lst_a = lst_a + [t for t in nltk.sent_tokenize(string)]\n",
        "            else:\n",
        "                break\n",
        "        string = a[last_m.a+last_m.size :]\n",
        "        lst_a = lst_a + [t for t in nltk.sent_tokenize(string)]\n",
        "\n",
        "        ### b\n",
        "        string = b[0 : first_m.b]\n",
        "        lst_b = [t for t in nltk.sent_tokenize(string)]\n",
        "        for n in range(len(lst_match)):\n",
        "            m = lst_match[n]\n",
        "            string = b[m.b : m.b+m.size]\n",
        "            lst_b.append(string)\n",
        "            if n+1 < len(lst_match):\n",
        "                next_m = lst_match[n+1]\n",
        "                string = b[m.b+m.size : next_m.b]\n",
        "                lst_b = lst_b + [t for t in nltk.sent_tokenize(string)]\n",
        "            else:\n",
        "                break\n",
        "        string = b[last_m.b+last_m.size :]\n",
        "        lst_b = lst_b + [t for t in nltk.sent_tokenize(string)]\n",
        "    \n",
        "    return lst_a, lst_b\n",
        "\n",
        "\n",
        "'''\n",
        "Highlights the matched strings in text.\n",
        ":parameter\n",
        "    :param a: string - raw text\n",
        "    :param b: string - raw text\n",
        "    :param both: bool - search a in b and, if True, viceversa\n",
        "    :param sentences: bool - if False matches single words\n",
        ":return\n",
        "    text html, it can be visualized on notebook with display(HTML(text))\n",
        "'''\n",
        "def display_string_matching(a, b, both=True, sentences=True, titles=[]):\n",
        "    if sentences is True:\n",
        "        lst_a, lst_b = utils_split_sentences(a, b)\n",
        "    else:\n",
        "        lst_a, lst_b = a.split(), b.split()       \n",
        "    \n",
        "    ## highlight a\n",
        "    first_text = []\n",
        "    for i in lst_a:\n",
        "        if re.sub(r'[^\\w\\s]', '', i.lower()) in [re.sub(r'[^\\w\\s]', '', z.lower()) for z in lst_b]:\n",
        "            first_text.append('<span style=\"background-color:rgba(255,215,0,0.3);\">' + i + '</span>')\n",
        "        else:\n",
        "            first_text.append(i)\n",
        "    first_text = ' '.join(first_text)\n",
        "    \n",
        "    ## highlight b\n",
        "    second_text = []\n",
        "    if both is True:\n",
        "        for i in lst_b:\n",
        "            if re.sub(r'[^\\w\\s]', '', i.lower()) in [re.sub(r'[^\\w\\s]', '', z.lower()) for z in lst_a]:\n",
        "                second_text.append('<span style=\"background-color:rgba(255,215,0,0.3);\">' + i + '</span>')\n",
        "            else:\n",
        "                second_text.append(i)\n",
        "    else:\n",
        "        second_text.append(b) \n",
        "    second_text = ' '.join(second_text)\n",
        "    \n",
        "    ## concatenate\n",
        "    if len(titles) > 0:\n",
        "        first_text = \"<strong>\"+titles[0]+\"</strong><br>\"+first_text\n",
        "    if len(titles) > 1:\n",
        "        second_text = \"<strong>\"+titles[1]+\"</strong><br>\"+second_text\n",
        "    else:\n",
        "        second_text = \"---\"*65+\"<br><br>\"+second_text\n",
        "    final_text = first_text +'<br><br>'+ second_text\n",
        "    return final_text"
      ],
      "metadata": {
        "colab": {
          "base_uri": "https://localhost:8080/"
        },
        "id": "qheMA4iuRbyM",
        "outputId": "897ae9e6-ab85-4107-81ec-3794aafa0b99"
      },
      "execution_count": 10,
      "outputs": [
        {
          "output_type": "stream",
          "name": "stdout",
          "text": [
            "[nltk_data] Downloading package punkt to /root/nltk_data...\n",
            "[nltk_data]   Package punkt is already up-to-date!\n"
          ]
        }
      ]
    },
    {
      "cell_type": "code",
      "source": [
        "match = display_string_matching(dtf_test[\"y\"][i], predicted[i], both=True, sentences=False, titles=[\"Real Summary\", \"Predicted Summary\"])\n",
        "from IPython.core.display import display, HTML\n",
        "display(HTML(match))"
      ],
      "metadata": {
        "colab": {
          "base_uri": "https://localhost:8080/",
          "height": 208
        },
        "id": "9Q1nwrKkVAVp",
        "outputId": "d1ea8b3a-9487-400e-ef24-88ae53ee72ec"
      },
      "execution_count": 11,
      "outputs": [
        {
          "output_type": "display_data",
          "data": {
            "text/plain": [
              "<IPython.core.display.HTML object>"
            ],
            "text/html": [
              "<strong>Real Summary</strong><br><span style=\"background-color:rgba(255,215,0,0.3);\">Mentally</span> <span style=\"background-color:rgba(255,215,0,0.3);\">ill</span> <span style=\"background-color:rgba(255,215,0,0.3);\">inmates</span> <span style=\"background-color:rgba(255,215,0,0.3);\">in</span> <span style=\"background-color:rgba(255,215,0,0.3);\">Miami</span> <span style=\"background-color:rgba(255,215,0,0.3);\">are</span> <span style=\"background-color:rgba(255,215,0,0.3);\">housed</span> <span style=\"background-color:rgba(255,215,0,0.3);\">on</span> <span style=\"background-color:rgba(255,215,0,0.3);\">the</span> <span style=\"background-color:rgba(255,215,0,0.3);\">\"forgotten</span> <span style=\"background-color:rgba(255,215,0,0.3);\">floor\"</span> Judge Steven <span style=\"background-color:rgba(255,215,0,0.3);\">Leifman</span> <span style=\"background-color:rgba(255,215,0,0.3);\">says</span> <span style=\"background-color:rgba(255,215,0,0.3);\">most</span> <span style=\"background-color:rgba(255,215,0,0.3);\">are</span> <span style=\"background-color:rgba(255,215,0,0.3);\">there</span> as <span style=\"background-color:rgba(255,215,0,0.3);\">a</span> result <span style=\"background-color:rgba(255,215,0,0.3);\">of</span> \"avoidable felonies\" While <span style=\"background-color:rgba(255,215,0,0.3);\">CNN</span> tours <span style=\"background-color:rgba(255,215,0,0.3);\">facility,</span> patient shouts: \"I am <span style=\"background-color:rgba(255,215,0,0.3);\">the</span> son <span style=\"background-color:rgba(255,215,0,0.3);\">of</span> <span style=\"background-color:rgba(255,215,0,0.3);\">the</span> president\" <span style=\"background-color:rgba(255,215,0,0.3);\">Leifman</span> <span style=\"background-color:rgba(255,215,0,0.3);\">says</span> <span style=\"background-color:rgba(255,215,0,0.3);\">the</span> <span style=\"background-color:rgba(255,215,0,0.3);\">system</span> <span style=\"background-color:rgba(255,215,0,0.3);\">is</span> unjust <span style=\"background-color:rgba(255,215,0,0.3);\">and</span> he's fighting for change <span style=\"background-color:rgba(255,215,0,0.3);\">.</span><br><br><strong>Predicted Summary</strong><br>An inmate <span style=\"background-color:rgba(255,215,0,0.3);\">housed</span> <span style=\"background-color:rgba(255,215,0,0.3);\">on</span> <span style=\"background-color:rgba(255,215,0,0.3);\">the</span> <span style=\"background-color:rgba(255,215,0,0.3);\">\"forgotten</span> <span style=\"background-color:rgba(255,215,0,0.3);\">floor,\"</span> where many <span style=\"background-color:rgba(255,215,0,0.3);\">mentally</span> <span style=\"background-color:rgba(255,215,0,0.3);\">ill</span> <span style=\"background-color:rgba(255,215,0,0.3);\">inmates</span> <span style=\"background-color:rgba(255,215,0,0.3);\">are</span> <span style=\"background-color:rgba(255,215,0,0.3);\">housed</span> <span style=\"background-color:rgba(255,215,0,0.3);\">in</span> <span style=\"background-color:rgba(255,215,0,0.3);\">Miami</span> before trial. <span style=\"background-color:rgba(255,215,0,0.3);\">MIAMI,</span> Florida <span style=\"background-color:rgba(255,215,0,0.3);\">(CNN)</span> <span style=\"background-color:rgba(255,215,0,0.3);\">--</span> <span style=\"background-color:rgba(255,215,0,0.3);\">The</span> ninth <span style=\"background-color:rgba(255,215,0,0.3);\">floor</span> <span style=\"background-color:rgba(255,215,0,0.3);\">of</span> <span style=\"background-color:rgba(255,215,0,0.3);\">the</span> Miami-Dade pretrial detention <span style=\"background-color:rgba(255,215,0,0.3);\">facility</span> <span style=\"background-color:rgba(255,215,0,0.3);\">is</span> dubbed <span style=\"background-color:rgba(255,215,0,0.3);\">the</span> <span style=\"background-color:rgba(255,215,0,0.3);\">\"forgotten</span> <span style=\"background-color:rgba(255,215,0,0.3);\">floor.\"</span> Here, <span style=\"background-color:rgba(255,215,0,0.3);\">inmates</span> with <span style=\"background-color:rgba(255,215,0,0.3);\">the</span> <span style=\"background-color:rgba(255,215,0,0.3);\">most</span> severe mental illnesses <span style=\"background-color:rgba(255,215,0,0.3);\">are</span> incarcerated until they're ready to appear <span style=\"background-color:rgba(255,215,0,0.3);\">in</span> court. So, they end up <span style=\"background-color:rgba(255,215,0,0.3);\">on</span> <span style=\"background-color:rgba(255,215,0,0.3);\">the</span> ninth <span style=\"background-color:rgba(255,215,0,0.3);\">floor</span> severely <span style=\"background-color:rgba(255,215,0,0.3);\">mentally</span> disturbed, but not getting any real help because they're <span style=\"background-color:rgba(255,215,0,0.3);\">in</span> jail. <span style=\"background-color:rgba(255,215,0,0.3);\">Leifman</span> <span style=\"background-color:rgba(255,215,0,0.3);\">says</span> about one-third <span style=\"background-color:rgba(255,215,0,0.3);\">of</span> all people <span style=\"background-color:rgba(255,215,0,0.3);\">in</span> Miami-Dade county jails <span style=\"background-color:rgba(255,215,0,0.3);\">are</span> <span style=\"background-color:rgba(255,215,0,0.3);\">mentally</span> <span style=\"background-color:rgba(255,215,0,0.3);\">ill.</span> <span style=\"background-color:rgba(255,215,0,0.3);\">Leifman</span> tells me that these prisoner-patients will often circulate through <span style=\"background-color:rgba(255,215,0,0.3);\">the</span> <span style=\"background-color:rgba(255,215,0,0.3);\">system,</span> occasionally stabilizing <span style=\"background-color:rgba(255,215,0,0.3);\">in</span> <span style=\"background-color:rgba(255,215,0,0.3);\">a</span> mental hospital, only to return to jail to face their charges. <span style=\"background-color:rgba(255,215,0,0.3);\">Leifman</span> <span style=\"background-color:rgba(255,215,0,0.3);\">says</span> 200 years ago people were considered \"lunatics\" <span style=\"background-color:rgba(255,215,0,0.3);\">and</span> they were locked up <span style=\"background-color:rgba(255,215,0,0.3);\">in</span> jails even if they had no charges against them. Over <span style=\"background-color:rgba(255,215,0,0.3);\">the</span> years, he <span style=\"background-color:rgba(255,215,0,0.3);\">says,</span> <span style=\"background-color:rgba(255,215,0,0.3);\">there</span> was some public outcry, <span style=\"background-color:rgba(255,215,0,0.3);\">and</span> <span style=\"background-color:rgba(255,215,0,0.3);\">the</span> <span style=\"background-color:rgba(255,215,0,0.3);\">mentally</span> <span style=\"background-color:rgba(255,215,0,0.3);\">ill</span> were moved out <span style=\"background-color:rgba(255,215,0,0.3);\">of</span> jails <span style=\"background-color:rgba(255,215,0,0.3);\">and</span> into hospitals. But <span style=\"background-color:rgba(255,215,0,0.3);\">Leifman</span> <span style=\"background-color:rgba(255,215,0,0.3);\">says</span> many <span style=\"background-color:rgba(255,215,0,0.3);\">of</span> these mental hospitals were so horrible they were shut down."
            ]
          },
          "metadata": {}
        }
      ]
    },
    {
      "cell_type": "code",
      "source": [
        "import nltk\n",
        "nltk.download('stopwords')\n",
        "nltk.download('wordnet')\n",
        "from collections import Counter\n",
        "## create stopwords\n",
        "lst_stopwords = nltk.corpus.stopwords.words(\"english\")\n",
        "## add words that are too frequent\n",
        "#lst_stopwords = lst_stopwords + [\"cnn\",\"say\",\"said\",\"new\"]\n",
        "\n",
        "## cleaning function\n",
        "def utils_preprocess_text(txt, punkt=True, lower=True, slang=True, lst_stopwords=None, stemm=False, lemm=True):\n",
        "    ### separate sentences with '. '\n",
        "    txt = re.sub(r'\\.(?=[^ \\W\\d])', '. ', str(txt))\n",
        "    ### remove punctuations and characters\n",
        "    txt = re.sub(r'[^\\w\\s]', '', txt) if punkt is True else txt\n",
        "    ### strip\n",
        "    txt = \" \".join([word.strip() for word in txt.split()])\n",
        "    ### lowercase\n",
        "    txt = txt.lower() if lower is True else txt\n",
        "    ### slang\n",
        "    txt = contractions.fix(txt) if slang is True else txt   \n",
        "    ### tokenize (convert from string to list)\n",
        "    lst_txt = txt.split()\n",
        "    ### stemming (remove -ing, -ly, ...)\n",
        "    if stemm is True:\n",
        "        ps = nltk.stem.porter.PorterStemmer()\n",
        "        lst_txt = [ps.stem(word) for word in lst_txt]\n",
        "    ### lemmatization (convert the word into root word)\n",
        "    if lemm is True:\n",
        "        lem = nltk.stem.wordnet.WordNetLemmatizer()\n",
        "        lst_txt = [lem.lemmatize(word) for word in lst_txt]\n",
        "    ### remove Stopwords\n",
        "    if lst_stopwords is not None:\n",
        "        lst_txt = [word for word in lst_txt if word not in \n",
        "                   lst_stopwords]\n",
        "    ### back to string\n",
        "    txt = \" \".join(lst_txt)\n",
        "    return txt"
      ],
      "metadata": {
        "colab": {
          "base_uri": "https://localhost:8080/"
        },
        "id": "wc-CyWDEVEiK",
        "outputId": "7044592a-2215-4898-d3ce-a9bbde3e9cdc"
      },
      "execution_count": 12,
      "outputs": [
        {
          "output_type": "stream",
          "name": "stdout",
          "text": [
            "[nltk_data] Downloading package stopwords to /root/nltk_data...\n",
            "[nltk_data]   Package stopwords is already up-to-date!\n",
            "[nltk_data] Downloading package wordnet to /root/nltk_data...\n",
            "[nltk_data]   Package wordnet is already up-to-date!\n"
          ]
        }
      ]
    },
    {
      "cell_type": "code",
      "source": [
        "\n",
        "## apply function to both text and summaries\n",
        "dtf_train[\"text_clean\"] = dtf_train[\"text\"].apply(lambda x: utils_preprocess_text(x, punkt=True, lower=True, \n",
        "                                                                                  slang=True, lst_stopwords=lst_stopwords, stemm=False, lemm=True))\n",
        "dtf_train[\"y_clean\"] = dtf_train[\"y\"].apply(lambda x: utils_preprocess_text(x, punkt=True, \n",
        "                                                                            lower=True, slang=True, lst_stopwords=lst_stopwords, stemm=False, lemm=True))"
      ],
      "metadata": {
        "colab": {
          "base_uri": "https://localhost:8080/"
        },
        "id": "5MnlDfTeWva4",
        "outputId": "e131651a-7286-4180-9f63-9df308a4e56a"
      },
      "execution_count": 13,
      "outputs": [
        {
          "output_type": "stream",
          "name": "stderr",
          "text": [
            "/usr/local/lib/python3.7/dist-packages/ipykernel_launcher.py:3: SettingWithCopyWarning: \n",
            "A value is trying to be set on a copy of a slice from a DataFrame.\n",
            "Try using .loc[row_indexer,col_indexer] = value instead\n",
            "\n",
            "See the caveats in the documentation: https://pandas.pydata.org/pandas-docs/stable/user_guide/indexing.html#returning-a-view-versus-a-copy\n",
            "  This is separate from the ipykernel package so we can avoid doing imports until\n",
            "/usr/local/lib/python3.7/dist-packages/ipykernel_launcher.py:5: SettingWithCopyWarning: \n",
            "A value is trying to be set on a copy of a slice from a DataFrame.\n",
            "Try using .loc[row_indexer,col_indexer] = value instead\n",
            "\n",
            "See the caveats in the documentation: https://pandas.pydata.org/pandas-docs/stable/user_guide/indexing.html#returning-a-view-versus-a-copy\n",
            "  \"\"\"\n"
          ]
        }
      ]
    },
    {
      "cell_type": "code",
      "source": [
        "\n",
        "## apply function to both text and summaries\n",
        "dtf_test[\"text_clean\"] = dtf_test[\"text\"].apply(lambda x: utils_preprocess_text(x, punkt=True, lower=True, \n",
        "                                                                                  slang=True, lst_stopwords=lst_stopwords, stemm=False, lemm=True))\n",
        "dtf_test[\"y_clean\"] = dtf_test[\"y\"].apply(lambda x: utils_preprocess_text(x, punkt=True, \n",
        "                                                                            lower=True, slang=True, lst_stopwords=lst_stopwords, stemm=False, lemm=True))"
      ],
      "metadata": {
        "colab": {
          "base_uri": "https://localhost:8080/"
        },
        "id": "AGeEts2ZTk53",
        "outputId": "d02c6776-7025-4816-ec4c-b931775fa578"
      },
      "execution_count": 14,
      "outputs": [
        {
          "output_type": "stream",
          "name": "stderr",
          "text": [
            "/usr/local/lib/python3.7/dist-packages/ipykernel_launcher.py:3: SettingWithCopyWarning: \n",
            "A value is trying to be set on a copy of a slice from a DataFrame.\n",
            "Try using .loc[row_indexer,col_indexer] = value instead\n",
            "\n",
            "See the caveats in the documentation: https://pandas.pydata.org/pandas-docs/stable/user_guide/indexing.html#returning-a-view-versus-a-copy\n",
            "  This is separate from the ipykernel package so we can avoid doing imports until\n",
            "/usr/local/lib/python3.7/dist-packages/ipykernel_launcher.py:5: SettingWithCopyWarning: \n",
            "A value is trying to be set on a copy of a slice from a DataFrame.\n",
            "Try using .loc[row_indexer,col_indexer] = value instead\n",
            "\n",
            "See the caveats in the documentation: https://pandas.pydata.org/pandas-docs/stable/user_guide/indexing.html#returning-a-view-versus-a-copy\n",
            "  \"\"\"\n"
          ]
        }
      ]
    },
    {
      "cell_type": "code",
      "source": [
        "dtf_train.head()"
      ],
      "metadata": {
        "colab": {
          "base_uri": "https://localhost:8080/",
          "height": 337
        },
        "id": "KEZMHkCvXj2p",
        "outputId": "a31b9254-6f02-4658-d087-e37c143bf84b"
      },
      "execution_count": 15,
      "outputs": [
        {
          "output_type": "execute_result",
          "data": {
            "text/plain": [
              "                                                text  \\\n",
              "2  MINNEAPOLIS, Minnesota (CNN) -- Drivers who we...   \n",
              "3  WASHINGTON (CNN) -- Doctors removed five small...   \n",
              "4  (CNN)  -- The National Football League has ind...   \n",
              "5  BAGHDAD, Iraq (CNN) -- Dressed in a Superman s...   \n",
              "6  BAGHDAD, Iraq (CNN) -- The women are too afrai...   \n",
              "\n",
              "                                                   y  \\\n",
              "2  NEW: \"I thought I was going to die,\" driver sa...   \n",
              "3  Five small polyps found during procedure; \"non...   \n",
              "4  NEW: NFL chief, Atlanta Falcons owner critical...   \n",
              "5  Parents beam with pride, can't stop from smili...   \n",
              "6  Aid workers: Violence, increased cost of livin...   \n",
              "\n",
              "                                          text_clean  \\\n",
              "2  minneapolis minnesota cnn driver minneapolis b...   \n",
              "3  washington cnn doctor removed five small polyp...   \n",
              "4  cnn national football league ha indefinitely s...   \n",
              "5  baghdad iraq cnn dressed superman shirt 5yearo...   \n",
              "6  baghdad iraq cnn woman afraid ashamed show fac...   \n",
              "\n",
              "                                             y_clean  \n",
              "2  new thought wa going die driver say man say pi...  \n",
              "3  five small polyp found procedure none worrisom...  \n",
              "4  new nfl chief atlanta falcon owner critical mi...  \n",
              "5  parent beam pride cannot stop smiling outpouri...  \n",
              "6  aid worker violence increased cost living driv...  "
            ],
            "text/html": [
              "\n",
              "  <div id=\"df-e4ef9850-de29-49a8-b612-e96a999bbbb0\">\n",
              "    <div class=\"colab-df-container\">\n",
              "      <div>\n",
              "<style scoped>\n",
              "    .dataframe tbody tr th:only-of-type {\n",
              "        vertical-align: middle;\n",
              "    }\n",
              "\n",
              "    .dataframe tbody tr th {\n",
              "        vertical-align: top;\n",
              "    }\n",
              "\n",
              "    .dataframe thead th {\n",
              "        text-align: right;\n",
              "    }\n",
              "</style>\n",
              "<table border=\"1\" class=\"dataframe\">\n",
              "  <thead>\n",
              "    <tr style=\"text-align: right;\">\n",
              "      <th></th>\n",
              "      <th>text</th>\n",
              "      <th>y</th>\n",
              "      <th>text_clean</th>\n",
              "      <th>y_clean</th>\n",
              "    </tr>\n",
              "  </thead>\n",
              "  <tbody>\n",
              "    <tr>\n",
              "      <th>2</th>\n",
              "      <td>MINNEAPOLIS, Minnesota (CNN) -- Drivers who we...</td>\n",
              "      <td>NEW: \"I thought I was going to die,\" driver sa...</td>\n",
              "      <td>minneapolis minnesota cnn driver minneapolis b...</td>\n",
              "      <td>new thought wa going die driver say man say pi...</td>\n",
              "    </tr>\n",
              "    <tr>\n",
              "      <th>3</th>\n",
              "      <td>WASHINGTON (CNN) -- Doctors removed five small...</td>\n",
              "      <td>Five small polyps found during procedure; \"non...</td>\n",
              "      <td>washington cnn doctor removed five small polyp...</td>\n",
              "      <td>five small polyp found procedure none worrisom...</td>\n",
              "    </tr>\n",
              "    <tr>\n",
              "      <th>4</th>\n",
              "      <td>(CNN)  -- The National Football League has ind...</td>\n",
              "      <td>NEW: NFL chief, Atlanta Falcons owner critical...</td>\n",
              "      <td>cnn national football league ha indefinitely s...</td>\n",
              "      <td>new nfl chief atlanta falcon owner critical mi...</td>\n",
              "    </tr>\n",
              "    <tr>\n",
              "      <th>5</th>\n",
              "      <td>BAGHDAD, Iraq (CNN) -- Dressed in a Superman s...</td>\n",
              "      <td>Parents beam with pride, can't stop from smili...</td>\n",
              "      <td>baghdad iraq cnn dressed superman shirt 5yearo...</td>\n",
              "      <td>parent beam pride cannot stop smiling outpouri...</td>\n",
              "    </tr>\n",
              "    <tr>\n",
              "      <th>6</th>\n",
              "      <td>BAGHDAD, Iraq (CNN) -- The women are too afrai...</td>\n",
              "      <td>Aid workers: Violence, increased cost of livin...</td>\n",
              "      <td>baghdad iraq cnn woman afraid ashamed show fac...</td>\n",
              "      <td>aid worker violence increased cost living driv...</td>\n",
              "    </tr>\n",
              "  </tbody>\n",
              "</table>\n",
              "</div>\n",
              "      <button class=\"colab-df-convert\" onclick=\"convertToInteractive('df-e4ef9850-de29-49a8-b612-e96a999bbbb0')\"\n",
              "              title=\"Convert this dataframe to an interactive table.\"\n",
              "              style=\"display:none;\">\n",
              "        \n",
              "  <svg xmlns=\"http://www.w3.org/2000/svg\" height=\"24px\"viewBox=\"0 0 24 24\"\n",
              "       width=\"24px\">\n",
              "    <path d=\"M0 0h24v24H0V0z\" fill=\"none\"/>\n",
              "    <path d=\"M18.56 5.44l.94 2.06.94-2.06 2.06-.94-2.06-.94-.94-2.06-.94 2.06-2.06.94zm-11 1L8.5 8.5l.94-2.06 2.06-.94-2.06-.94L8.5 2.5l-.94 2.06-2.06.94zm10 10l.94 2.06.94-2.06 2.06-.94-2.06-.94-.94-2.06-.94 2.06-2.06.94z\"/><path d=\"M17.41 7.96l-1.37-1.37c-.4-.4-.92-.59-1.43-.59-.52 0-1.04.2-1.43.59L10.3 9.45l-7.72 7.72c-.78.78-.78 2.05 0 2.83L4 21.41c.39.39.9.59 1.41.59.51 0 1.02-.2 1.41-.59l7.78-7.78 2.81-2.81c.8-.78.8-2.07 0-2.86zM5.41 20L4 18.59l7.72-7.72 1.47 1.35L5.41 20z\"/>\n",
              "  </svg>\n",
              "      </button>\n",
              "      \n",
              "  <style>\n",
              "    .colab-df-container {\n",
              "      display:flex;\n",
              "      flex-wrap:wrap;\n",
              "      gap: 12px;\n",
              "    }\n",
              "\n",
              "    .colab-df-convert {\n",
              "      background-color: #E8F0FE;\n",
              "      border: none;\n",
              "      border-radius: 50%;\n",
              "      cursor: pointer;\n",
              "      display: none;\n",
              "      fill: #1967D2;\n",
              "      height: 32px;\n",
              "      padding: 0 0 0 0;\n",
              "      width: 32px;\n",
              "    }\n",
              "\n",
              "    .colab-df-convert:hover {\n",
              "      background-color: #E2EBFA;\n",
              "      box-shadow: 0px 1px 2px rgba(60, 64, 67, 0.3), 0px 1px 3px 1px rgba(60, 64, 67, 0.15);\n",
              "      fill: #174EA6;\n",
              "    }\n",
              "\n",
              "    [theme=dark] .colab-df-convert {\n",
              "      background-color: #3B4455;\n",
              "      fill: #D2E3FC;\n",
              "    }\n",
              "\n",
              "    [theme=dark] .colab-df-convert:hover {\n",
              "      background-color: #434B5C;\n",
              "      box-shadow: 0px 1px 3px 1px rgba(0, 0, 0, 0.15);\n",
              "      filter: drop-shadow(0px 1px 2px rgba(0, 0, 0, 0.3));\n",
              "      fill: #FFFFFF;\n",
              "    }\n",
              "  </style>\n",
              "\n",
              "      <script>\n",
              "        const buttonEl =\n",
              "          document.querySelector('#df-e4ef9850-de29-49a8-b612-e96a999bbbb0 button.colab-df-convert');\n",
              "        buttonEl.style.display =\n",
              "          google.colab.kernel.accessAllowed ? 'block' : 'none';\n",
              "\n",
              "        async function convertToInteractive(key) {\n",
              "          const element = document.querySelector('#df-e4ef9850-de29-49a8-b612-e96a999bbbb0');\n",
              "          const dataTable =\n",
              "            await google.colab.kernel.invokeFunction('convertToInteractive',\n",
              "                                                     [key], {});\n",
              "          if (!dataTable) return;\n",
              "\n",
              "          const docLinkHtml = 'Like what you see? Visit the ' +\n",
              "            '<a target=\"_blank\" href=https://colab.research.google.com/notebooks/data_table.ipynb>data table notebook</a>'\n",
              "            + ' to learn more about interactive tables.';\n",
              "          element.innerHTML = '';\n",
              "          dataTable['output_type'] = 'display_data';\n",
              "          await google.colab.output.renderOutput(dataTable, element);\n",
              "          const docLink = document.createElement('div');\n",
              "          docLink.innerHTML = docLinkHtml;\n",
              "          element.appendChild(docLink);\n",
              "        }\n",
              "      </script>\n",
              "    </div>\n",
              "  </div>\n",
              "  "
            ]
          },
          "metadata": {},
          "execution_count": 15
        }
      ]
    },
    {
      "cell_type": "code",
      "source": [
        "###Text max length distribution\n",
        "seq_len = [len(i.split()) for i in dtf_train[\"text_clean\"]]\n",
        "pd.Series(seq_len).hist(bins = 20)"
      ],
      "metadata": {
        "colab": {
          "base_uri": "https://localhost:8080/",
          "height": 282
        },
        "id": "D0gcSK82W_rX",
        "outputId": "dce2ef16-5cd6-49ee-de2f-ae924758e3aa"
      },
      "execution_count": 16,
      "outputs": [
        {
          "output_type": "execute_result",
          "data": {
            "text/plain": [
              "<matplotlib.axes._subplots.AxesSubplot at 0x7fdeb0ef4e10>"
            ]
          },
          "metadata": {},
          "execution_count": 16
        },
        {
          "output_type": "display_data",
          "data": {
            "text/plain": [
              "<Figure size 432x288 with 1 Axes>"
            ],
            "image/png": "[encoded data removed]"
          },
          "metadata": {
            "needs_background": "light"
          }
        }
      ]
    },
    {
      "cell_type": "code",
      "source": [
        "###summary max length distribution\n",
        "seq_len = [len(i.split()) for i in dtf_train[\"y_clean\"]]\n",
        "pd.Series(seq_len).hist(bins = 20)"
      ],
      "metadata": {
        "colab": {
          "base_uri": "https://localhost:8080/",
          "height": 284
        },
        "id": "OGa-fmXUXpYI",
        "outputId": "f227a7d5-2151-491a-d04e-32f928831c25"
      },
      "execution_count": 17,
      "outputs": [
        {
          "output_type": "execute_result",
          "data": {
            "text/plain": [
              "<matplotlib.axes._subplots.AxesSubplot at 0x7fdeb0e183d0>"
            ]
          },
          "metadata": {},
          "execution_count": 17
        },
        {
          "output_type": "display_data",
          "data": {
            "text/plain": [
              "<Figure size 432x288 with 1 Axes>"
            ],
            "image/png": "[encoded data removed]"
          },
          "metadata": {
            "needs_background": "light"
          }
        }
      ]
    },
    {
      "cell_type": "code",
      "source": [
        "X_len = 400\n",
        "y_len = 50"
      ],
      "metadata": {
        "id": "dGR1KXvmZra9"
      },
      "execution_count": 18,
      "outputs": []
    },
    {
      "cell_type": "code",
      "source": [
        "from collections import Counter\n",
        "print('Most common words in text')\n",
        "p = Counter(\" \".join(dtf_train[\"text_clean\"]).split()).most_common(10)\n",
        "rslt = pd.DataFrame(p, columns=['Word', 'Frequency'])\n",
        "print(rslt)\n",
        "\n",
        "print('')\n",
        "print('Most common words in summary')\n",
        "p = Counter(\" \".join(dtf_train[\"y_clean\"]).split()).most_common(10)\n",
        "rslt = pd.DataFrame(p, columns=['Word', 'Frequency'])\n",
        "print(rslt)"
      ],
      "metadata": {
        "colab": {
          "base_uri": "https://localhost:8080/"
        },
        "id": "VuAoQjEtX-ED",
        "outputId": "de745180-7542-41e3-f7f9-3b15634c8ca4"
      },
      "execution_count": 19,
      "outputs": [
        {
          "output_type": "stream",
          "name": "stdout",
          "text": [
            "Most common words in text\n",
            "     Word  Frequency\n",
            "0    said     119736\n",
            "1      wa      95690\n",
            "2      ha      47434\n",
            "3     cnn      33766\n",
            "4  people      29488\n",
            "5     one      29367\n",
            "6    year      27962\n",
            "7   would      24998\n",
            "8     say      23194\n",
            "9    time      21527\n",
            "\n",
            "Most common words in summary\n",
            "       Word  Frequency\n",
            "0       say      12039\n",
            "1       new       5501\n",
            "2        wa       5419\n",
            "3        ha       4154\n",
            "4      year       2237\n",
            "5    people       2076\n",
            "6    police       1962\n",
            "7  official       1889\n",
            "8       one       1836\n",
            "9       two       1764\n"
          ]
        }
      ]
    },
    {
      "cell_type": "code",
      "source": [
        "'''\n",
        "Summarizes corpus with Bart.\n",
        ":parameter    \n",
        "   :param corpus: list - dtf[\"text\"]    \n",
        "   :param max_len: length of the summary\n",
        ":return    \n",
        "    list of summaries\n",
        "'''\n",
        "\n",
        "def bart(corpus, max_len):    \n",
        "    nlp = transformers.pipeline(\"summarization\")    \n",
        "    lst_summaries = [nlp(txt, min_length=39, max_length=max_len)[0][\"summary_text\"].replace(\" .\", \".\")                    \n",
        "                     for txt in corpus]    \n",
        "    return lst_summaries\n",
        "\n",
        "## Apply the function to corpus\n",
        "predicted = bart(corpus=dtf_test[\"text\"], max_len=100)"
      ],
      "metadata": {
        "id": "VCCorfnuwo2I",
        "colab": {
          "base_uri": "https://localhost:8080/"
        },
        "outputId": "cdb78c3b-d84d-4301-ea55-30d7b99c4d51"
      },
      "execution_count": 24,
      "outputs": [
        {
          "output_type": "stream",
          "name": "stderr",
          "text": [
            "No model was supplied, defaulted to sshleifer/distilbart-cnn-12-6 (https://huggingface.co/sshleifer/distilbart-cnn-12-6)\n"
          ]
        }
      ]
    },
    {
      "cell_type": "code",
      "source": [
        "i=0\n",
        "match = display_string_matching(dtf_test[\"y\"][i], predicted[i], both=True, sentences=False, titles=[\"Real Summary\", \"Predicted Summary\"])\n",
        "from IPython.core.display import display, HTML\n",
        "display(HTML(match))"
      ],
      "metadata": {
        "colab": {
          "base_uri": "https://localhost:8080/",
          "height": 139
        },
        "id": "CifOQGtxlPt2",
        "outputId": "4d380c59-e959-49a5-f170-b03c9028a664"
      },
      "execution_count": 27,
      "outputs": [
        {
          "output_type": "display_data",
          "data": {
            "text/plain": [
              "<IPython.core.display.HTML object>"
            ],
            "text/html": [
              "<strong>Real Summary</strong><br><span style=\"background-color:rgba(255,215,0,0.3);\">Harry</span> <span style=\"background-color:rgba(255,215,0,0.3);\">Potter</span> <span style=\"background-color:rgba(255,215,0,0.3);\">star</span> <span style=\"background-color:rgba(255,215,0,0.3);\">Daniel</span> <span style=\"background-color:rgba(255,215,0,0.3);\">Radcliffe</span> gets £20M <span style=\"background-color:rgba(255,215,0,0.3);\">fortune</span> as <span style=\"background-color:rgba(255,215,0,0.3);\">he</span> <span style=\"background-color:rgba(255,215,0,0.3);\">turns</span> <span style=\"background-color:rgba(255,215,0,0.3);\">18</span> <span style=\"background-color:rgba(255,215,0,0.3);\">Monday</span> . <span style=\"background-color:rgba(255,215,0,0.3);\">Young</span> <span style=\"background-color:rgba(255,215,0,0.3);\">actor</span> <span style=\"background-color:rgba(255,215,0,0.3);\">says</span> <span style=\"background-color:rgba(255,215,0,0.3);\">he</span> <span style=\"background-color:rgba(255,215,0,0.3);\">has</span> <span style=\"background-color:rgba(255,215,0,0.3);\">no</span> <span style=\"background-color:rgba(255,215,0,0.3);\">plans</span> <span style=\"background-color:rgba(255,215,0,0.3);\">to</span> <span style=\"background-color:rgba(255,215,0,0.3);\">fritter</span> <span style=\"background-color:rgba(255,215,0,0.3);\">his</span> <span style=\"background-color:rgba(255,215,0,0.3);\">cash</span> <span style=\"background-color:rgba(255,215,0,0.3);\">away</span> . <span style=\"background-color:rgba(255,215,0,0.3);\">Radcliffe's</span> <span style=\"background-color:rgba(255,215,0,0.3);\">earnings</span> <span style=\"background-color:rgba(255,215,0,0.3);\">from</span> <span style=\"background-color:rgba(255,215,0,0.3);\">first</span> <span style=\"background-color:rgba(255,215,0,0.3);\">five</span> <span style=\"background-color:rgba(255,215,0,0.3);\">Potter</span> <span style=\"background-color:rgba(255,215,0,0.3);\">films</span> <span style=\"background-color:rgba(255,215,0,0.3);\">have</span> <span style=\"background-color:rgba(255,215,0,0.3);\">been</span> <span style=\"background-color:rgba(255,215,0,0.3);\">held</span> <span style=\"background-color:rgba(255,215,0,0.3);\">in</span> <span style=\"background-color:rgba(255,215,0,0.3);\">trust</span> <span style=\"background-color:rgba(255,215,0,0.3);\">fund</span> .<br><br><strong>Predicted Summary</strong><br><span style=\"background-color:rgba(255,215,0,0.3);\">Harry</span> <span style=\"background-color:rgba(255,215,0,0.3);\">Potter</span> <span style=\"background-color:rgba(255,215,0,0.3);\">star</span> <span style=\"background-color:rgba(255,215,0,0.3);\">Daniel</span> <span style=\"background-color:rgba(255,215,0,0.3);\">Radcliffe</span> <span style=\"background-color:rgba(255,215,0,0.3);\">turns</span> <span style=\"background-color:rgba(255,215,0,0.3);\">18</span> on <span style=\"background-color:rgba(255,215,0,0.3);\">Monday,</span> gaining access <span style=\"background-color:rgba(255,215,0,0.3);\">to</span> a reported $41.1 million <span style=\"background-color:rgba(255,215,0,0.3);\">fortune.</span> The <span style=\"background-color:rgba(255,215,0,0.3);\">young</span> <span style=\"background-color:rgba(255,215,0,0.3);\">actor</span> <span style=\"background-color:rgba(255,215,0,0.3);\">says</span> <span style=\"background-color:rgba(255,215,0,0.3);\">he</span> <span style=\"background-color:rgba(255,215,0,0.3);\">has</span> <span style=\"background-color:rgba(255,215,0,0.3);\">no</span> <span style=\"background-color:rgba(255,215,0,0.3);\">plans</span> <span style=\"background-color:rgba(255,215,0,0.3);\">to</span> <span style=\"background-color:rgba(255,215,0,0.3);\">fritter</span> <span style=\"background-color:rgba(255,215,0,0.3);\">his</span> <span style=\"background-color:rgba(255,215,0,0.3);\">cash</span> <span style=\"background-color:rgba(255,215,0,0.3);\">away</span> on fast cars, drink and celebrity parties. <span style=\"background-color:rgba(255,215,0,0.3);\">Radcliffe's</span> <span style=\"background-color:rgba(255,215,0,0.3);\">earnings</span> <span style=\"background-color:rgba(255,215,0,0.3);\">from</span> the <span style=\"background-color:rgba(255,215,0,0.3);\">first</span> <span style=\"background-color:rgba(255,215,0,0.3);\">five</span> <span style=\"background-color:rgba(255,215,0,0.3);\">Potter</span> <span style=\"background-color:rgba(255,215,0,0.3);\">films</span> <span style=\"background-color:rgba(255,215,0,0.3);\">have</span> <span style=\"background-color:rgba(255,215,0,0.3);\">been</span> <span style=\"background-color:rgba(255,215,0,0.3);\">held</span> <span style=\"background-color:rgba(255,215,0,0.3);\">in</span> a <span style=\"background-color:rgba(255,215,0,0.3);\">trust</span> <span style=\"background-color:rgba(255,215,0,0.3);\">fund.</span>"
            ]
          },
          "metadata": {}
        }
      ]
    },
    {
      "cell_type": "code",
      "source": [
        ""
      ],
      "metadata": {
        "id": "zZYqvfDNl3tZ"
      },
      "execution_count": 23,
      "outputs": []
    }
  ]
}